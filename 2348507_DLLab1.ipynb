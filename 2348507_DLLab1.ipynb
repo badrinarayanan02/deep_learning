{
  "nbformat": 4,
  "nbformat_minor": 0,
  "metadata": {
    "colab": {
      "provenance": [],
      "authorship_tag": "ABX9TyPIOlx+uAcBfVkoGHtkPc3u",
      "include_colab_link": true
    },
    "kernelspec": {
      "name": "python3",
      "display_name": "Python 3"
    },
    "language_info": {
      "name": "python"
    }
  },
  "cells": [
    {
      "cell_type": "markdown",
      "metadata": {
        "id": "view-in-github",
        "colab_type": "text"
      },
      "source": [
        "<a href=\"https://colab.research.google.com/github/badrinarayanan02/deep_learning/blob/main/2348507_DLLab1.ipynb\" target=\"_parent\"><img src=\"https://colab.research.google.com/assets/colab-badge.svg\" alt=\"Open In Colab\"/></a>"
      ]
    },
    {
      "cell_type": "markdown",
      "source": [
        "# **Perceptron Learning and Gradient Descent Algorithms**"
      ],
      "metadata": {
        "id": "hsb8GnhIF-Fm"
      }
    },
    {
      "cell_type": "markdown",
      "source": [
        "**Task**"
      ],
      "metadata": {
        "id": "gvD1E8eALlMp"
      }
    },
    {
      "cell_type": "markdown",
      "source": [
        "Create a Python implementation of the perceptron learning algorithm to train neural networks for the following boolean functions: a) AND, b) OR, c) NAND, d) XOR. Begin by manually assigning weights and displaying the number of errors between positive and negative outcomes. Then, utilize the perceptron learning algorithm to adjust the weights and eliminate these errors by finding the optimal weight configuration."
      ],
      "metadata": {
        "id": "zrfCaGqSF6Mb"
      }
    },
    {
      "cell_type": "markdown",
      "source": [
        "Develop a Python script to utilize the gradient descent algorithm for locating the global minima of the following equations. Additionally, ensure the program prints the number of iterations taken to identify the global minima.\n",
        "\n",
        "Note:Visualize all the results in graph\n",
        "\n",
        "i) f(x) = x^2 - 2x + 2\n",
        "ii) f(x, y) = (1 - x)^2 + 100(y - x^2)^2"
      ],
      "metadata": {
        "id": "7qPjVx8hLjaC"
      }
    },
    {
      "cell_type": "code",
      "source": [],
      "metadata": {
        "id": "gSctZzbAKh85"
      },
      "execution_count": null,
      "outputs": []
    }
  ]
}