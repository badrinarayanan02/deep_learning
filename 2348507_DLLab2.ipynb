{
  "nbformat": 4,
  "nbformat_minor": 0,
  "metadata": {
    "colab": {
      "provenance": [],
      "authorship_tag": "ABX9TyMaWBrwvCvzpD0St14LfaQ/",
      "include_colab_link": true
    },
    "kernelspec": {
      "name": "python3",
      "display_name": "Python 3"
    },
    "language_info": {
      "name": "python"
    }
  },
  "cells": [
    {
      "cell_type": "markdown",
      "metadata": {
        "id": "view-in-github",
        "colab_type": "text"
      },
      "source": [
        "<a href=\"https://colab.research.google.com/github/badrinarayanan02/deep_learning/blob/main/2348507_DLLab2.ipynb\" target=\"_parent\"><img src=\"https://colab.research.google.com/assets/colab-badge.svg\" alt=\"Open In Colab\"/></a>"
      ]
    },
    {
      "cell_type": "markdown",
      "source": [
        "# **Multilayer Perceptrons**"
      ],
      "metadata": {
        "id": "WZlT22Ezcrr8"
      }
    },
    {
      "cell_type": "markdown",
      "source": [
        "You are working for a financial institution that is concerned about fraudulent transactions on its\n",
        "credit card platform. Your task is to develop a predictive model using Multilayer Perceptrons\n",
        "(MLPs) with Keras/TensorFlow to detect fraudulent transactions based on transaction features."
      ],
      "metadata": {
        "id": "fi5gkOpgci7c"
      }
    },
    {
      "cell_type": "code",
      "execution_count": null,
      "metadata": {
        "id": "X2vEftbLcZV-"
      },
      "outputs": [],
      "source": []
    }
  ]
}